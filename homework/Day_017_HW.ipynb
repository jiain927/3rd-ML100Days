{
 "cells": [
  {
   "cell_type": "markdown",
   "metadata": {},
   "source": [
    "# 作業\n",
    "- 新增一個欄位 `customized_age_grp`，把 `age` 分為 (0, 10], (10, 20], (20, 30], (30, 50], (50, 100] 這五組，\n",
    "'(' 表示不包含, ']' 表示包含  \n",
    "- Hints: 執行 ??pd.cut()，了解提供其中 bins 這個參數的使用方式"
   ]
  },
  {
   "cell_type": "markdown",
   "metadata": {},
   "source": [
    "# [作業目標]\n",
    "- 請同學試著查詢 pandas.cut 這個函數還有哪些參數, 藉由改動參數以達成目標\n",
    "- 藉由查詢與改動參數的過程, 熟悉查詢函數的方法與理解參數性質, 並了解數值的離散化的調整工具"
   ]
  },
  {
   "cell_type": "markdown",
   "metadata": {},
   "source": [
    "# [作業重點]\n",
    "- 仿照 In[3], In[4] 的語法, 並設定 pd.cut 的參數以指定間距"
   ]
  },
  {
   "cell_type": "code",
   "execution_count": 1,
   "metadata": {},
   "outputs": [],
   "source": [
    "# 載入套件\n",
    "import os\n",
    "import numpy as np\n",
    "import pandas as pd\n",
    "\n",
    "import matplotlib.pyplot as plt\n",
    "%matplotlib inline"
   ]
  },
  {
   "cell_type": "code",
   "execution_count": 2,
   "metadata": {},
   "outputs": [],
   "source": [
    "# 初始設定 Ages 的資料\n",
    "ages = pd.DataFrame({\"age\": [18,22,25,27,7,21,23,37,30,61,45,41,9,18,80,100]})"
   ]
  },
  {
   "cell_type": "markdown",
   "metadata": {},
   "source": [
    "#### 等寬劃分"
   ]
  },
  {
   "cell_type": "code",
   "execution_count": 3,
   "metadata": {},
   "outputs": [],
   "source": [
    "# 新增欄位 \"equal_width_age\", 對年齡做等寬劃分\n",
    "ages[\"equal_width_age\"] = pd.cut(ages[\"age\"], 4)"
   ]
  },
  {
   "cell_type": "code",
   "execution_count": 4,
   "metadata": {},
   "outputs": [
    {
     "data": {
      "text/plain": [
       "(6.907, 30.25]    10\n",
       "(30.25, 53.5]      3\n",
       "(76.75, 100.0]     2\n",
       "(53.5, 76.75]      1\n",
       "Name: equal_width_age, dtype: int64"
      ]
     },
     "execution_count": 4,
     "metadata": {},
     "output_type": "execute_result"
    }
   ],
   "source": [
    "# 觀察等寬劃分下, 每個種組距各出現幾次\n",
    "ages[\"equal_width_age\"].value_counts() # 每個 bin 的值的範圍大小都是一樣的"
   ]
  },
  {
   "cell_type": "markdown",
   "metadata": {},
   "source": [
    "#### 等頻劃分"
   ]
  },
  {
   "cell_type": "code",
   "execution_count": 5,
   "metadata": {},
   "outputs": [],
   "source": [
    "# 新增欄位 \"equal_freq_age\", 對年齡做等頻劃分\n",
    "ages[\"equal_freq_age\"] = pd.qcut(ages[\"age\"], 4)"
   ]
  },
  {
   "cell_type": "code",
   "execution_count": 6,
   "metadata": {},
   "outputs": [
    {
     "data": {
      "text/plain": [
       "(42.0, 100.0]     4\n",
       "(26.0, 42.0]      4\n",
       "(20.25, 26.0]     4\n",
       "(6.999, 20.25]    4\n",
       "Name: equal_freq_age, dtype: int64"
      ]
     },
     "execution_count": 6,
     "metadata": {},
     "output_type": "execute_result"
    }
   ],
   "source": [
    "# 觀察等頻劃分下, 每個種組距各出現幾次\n",
    "ages[\"equal_freq_age\"].value_counts() # 每個 bin 的資料筆數是一樣的"
   ]
  },
  {
   "cell_type": "markdown",
   "metadata": {
    "collapsed": true
   },
   "source": [
    "### HW"
   ]
  },
  {
   "cell_type": "code",
   "execution_count": null,
   "metadata": {},
   "outputs": [],
   "source": [
    "## cut ：可以用指定的範圍切"
   ]
  },
  {
   "cell_type": "code",
   "execution_count": 8,
   "metadata": {},
   "outputs": [],
   "source": [
    "#customized_age_grp\n",
    "bins = [0, 10, 20, 30, 50, 100]\n",
    "ages[\"customized_age_grp\"] = pd.cut(ages[\"age\"], bins)"
   ]
  },
  {
   "cell_type": "code",
   "execution_count": 9,
   "metadata": {},
   "outputs": [
    {
     "data": {
      "text/plain": [
       "(20, 30]     6\n",
       "(50, 100]    3\n",
       "(30, 50]     3\n",
       "(10, 20]     2\n",
       "(0, 10]      2\n",
       "Name: customized_age_grp, dtype: int64"
      ]
     },
     "execution_count": 9,
     "metadata": {},
     "output_type": "execute_result"
    }
   ],
   "source": [
    "ages[\"customized_age_grp\"].value_counts()"
   ]
  },
  {
   "cell_type": "code",
   "execution_count": 12,
   "metadata": {
    "scrolled": true
   },
   "outputs": [
    {
     "data": {
      "text/plain": [
       "[20, 30)     5\n",
       "[30, 50)     4\n",
       "[50, 100)    2\n",
       "[10, 20)     2\n",
       "[0, 10)      2\n",
       "Name: age, dtype: int64"
      ]
     },
     "execution_count": 12,
     "metadata": {},
     "output_type": "execute_result"
    }
   ],
   "source": [
    "pd.cut(ages[\"age\"], bins, right=False).value_counts()"
   ]
  },
  {
   "cell_type": "code",
   "execution_count": 13,
   "metadata": {
    "scrolled": true
   },
   "outputs": [
    {
     "data": {
      "text/plain": [
       "2.0    5\n",
       "3.0    4\n",
       "4.0    2\n",
       "0.0    2\n",
       "1.0    2\n",
       "Name: age, dtype: int64"
      ]
     },
     "execution_count": 13,
     "metadata": {},
     "output_type": "execute_result"
    }
   ],
   "source": [
    "pd.cut(ages[\"age\"], bins, right=False, labels=False).value_counts()"
   ]
  },
  {
   "cell_type": "code",
   "execution_count": 15,
   "metadata": {
    "scrolled": true
   },
   "outputs": [
    {
     "data": {
      "text/plain": [
       "(0      [10.0, 20.0)\n",
       " 1      [20.0, 30.0)\n",
       " 2      [20.0, 30.0)\n",
       " 3      [20.0, 30.0)\n",
       " 4       [0.0, 10.0)\n",
       " 5      [20.0, 30.0)\n",
       " 6      [20.0, 30.0)\n",
       " 7      [30.0, 50.0)\n",
       " 8      [30.0, 50.0)\n",
       " 9     [50.0, 100.0)\n",
       " 10     [30.0, 50.0)\n",
       " 11     [30.0, 50.0)\n",
       " 12      [0.0, 10.0)\n",
       " 13     [10.0, 20.0)\n",
       " 14    [50.0, 100.0)\n",
       " 15              NaN\n",
       " Name: age, dtype: category\n",
       " Categories (5, interval[int64]): [[0, 10) < [10, 20) < [20, 30) < [30, 50) < [50, 100)],\n",
       " array([  0,  10,  20,  30,  50, 100]))"
      ]
     },
     "execution_count": 15,
     "metadata": {},
     "output_type": "execute_result"
    }
   ],
   "source": [
    "pd.cut(ages[\"age\"], bins, right=False, retbins=True)"
   ]
  },
  {
   "cell_type": "code",
   "execution_count": 17,
   "metadata": {
    "scrolled": true
   },
   "outputs": [
    {
     "data": {
      "text/plain": [
       "0      [10.0, 20.0)\n",
       "1      [20.0, 30.0)\n",
       "2      [20.0, 30.0)\n",
       "3      [20.0, 30.0)\n",
       "4       [0.0, 10.0)\n",
       "5      [20.0, 30.0)\n",
       "6      [20.0, 30.0)\n",
       "7      [30.0, 50.0)\n",
       "8      [30.0, 50.0)\n",
       "9     [50.0, 100.0)\n",
       "10     [30.0, 50.0)\n",
       "11     [30.0, 50.0)\n",
       "12      [0.0, 10.0)\n",
       "13     [10.0, 20.0)\n",
       "14    [50.0, 100.0)\n",
       "15              NaN\n",
       "Name: age, dtype: category\n",
       "Categories (5, interval[int64]): [[0, 10) < [10, 20) < [20, 30) < [30, 50) < [50, 100)]"
      ]
     },
     "execution_count": 17,
     "metadata": {},
     "output_type": "execute_result"
    }
   ],
   "source": [
    "pd.cut(ages[\"age\"], bins, right=False)"
   ]
  },
  {
   "cell_type": "code",
   "execution_count": null,
   "metadata": {},
   "outputs": [],
   "source": [
    "## qcut ：可以用百分比切"
   ]
  },
  {
   "cell_type": "code",
   "execution_count": 22,
   "metadata": {},
   "outputs": [
    {
     "data": {
      "text/plain": [
       "(42.0, 100.0]     4\n",
       "(26.0, 42.0]      4\n",
       "(20.25, 26.0]     4\n",
       "(6.999, 20.25]    4\n",
       "Name: age, dtype: int64"
      ]
     },
     "execution_count": 22,
     "metadata": {},
     "output_type": "execute_result"
    }
   ],
   "source": [
    "pd.qcut(ages[\"age\"], 4).value_counts()"
   ]
  },
  {
   "cell_type": "code",
   "execution_count": 23,
   "metadata": {
    "scrolled": true
   },
   "outputs": [
    {
     "data": {
      "text/plain": [
       "(42.0, 100.0]     4\n",
       "(26.0, 42.0]      4\n",
       "(20.25, 26.0]     4\n",
       "(6.999, 20.25]    4\n",
       "Name: age, dtype: int64"
      ]
     },
     "execution_count": 23,
     "metadata": {},
     "output_type": "execute_result"
    }
   ],
   "source": [
    "pd.qcut(ages[\"age\"],[0, .25, .5, .75, 1.]).value_counts()"
   ]
  },
  {
   "cell_type": "code",
   "execution_count": null,
   "metadata": {},
   "outputs": [],
   "source": [
    "pd.qcut(ages[\"age\"], [0, 0.1, 0.5, 0.9, 1.]).value_counts()"
   ]
  }
 ],
 "metadata": {
  "kernelspec": {
   "display_name": "Python 3",
   "language": "python",
   "name": "python3"
  },
  "language_info": {
   "codemirror_mode": {
    "name": "ipython",
    "version": 3
   },
   "file_extension": ".py",
   "mimetype": "text/x-python",
   "name": "python",
   "nbconvert_exporter": "python",
   "pygments_lexer": "ipython3",
   "version": "3.7.3"
  },
  "toc": {
   "base_numbering": 1,
   "nav_menu": {},
   "number_sections": true,
   "sideBar": true,
   "skip_h1_title": false,
   "title_cell": "Table of Contents",
   "title_sidebar": "Contents",
   "toc_cell": false,
   "toc_position": {},
   "toc_section_display": true,
   "toc_window_display": false
  }
 },
 "nbformat": 4,
 "nbformat_minor": 2
}
